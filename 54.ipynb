{
  "nbformat": 4,
  "nbformat_minor": 0,
  "metadata": {
    "colab": {
      "name": "54.ipynb",
      "provenance": [],
      "collapsed_sections": [],
      "authorship_tag": "ABX9TyPNA1ILPVVYDqStujnEHIla",
      "include_colab_link": true
    },
    "kernelspec": {
      "name": "python3",
      "display_name": "Python 3"
    }
  },
  "cells": [
    {
      "cell_type": "markdown",
      "metadata": {
        "id": "view-in-github",
        "colab_type": "text"
      },
      "source": [
        "<a href=\"https://colab.research.google.com/github/qinkun11/colab/blob/master/54.ipynb\" target=\"_parent\"><img src=\"https://colab.research.google.com/assets/colab-badge.svg\" alt=\"Open In Colab\"/></a>"
      ]
    },
    {
      "cell_type": "code",
      "metadata": {
        "id": "HIsmf3Xg8tWB",
        "colab_type": "code",
        "colab": {}
      },
      "source": [
        "class Solution:\n",
        "    def spiralOrder(self, matrix: List[List[int]]) -> List[int]:\n",
        "        row = len(matrix)\n",
        "        if row == 0 or len(matrix[0]) == 0:\n",
        "            return []\n",
        "        col = len(matrix[0])\n",
        "\n",
        "        res = matrix[0]\n",
        "\n",
        "        if row > 1:\n",
        "            for i in range(1, row):\n",
        "                res.append(matrix[i][col - 1])\n",
        "\n",
        "            for j in range(col - 2, -1, -1):\n",
        "                res.append(matrix[row-1][j])\n",
        "\n",
        "            if col > 1:\n",
        "                for i in range(row-2, 0, -1):\n",
        "                    res.append(matrix[i][0])\n",
        "            \n",
        "        M = []\n",
        "        for k in range(1, row-1):\n",
        "                t = matrix[k][1:-1]\n",
        "                M.append(t)\n",
        "            \n",
        "        return res + self.spiralOrder(M)"
      ],
      "execution_count": 0,
      "outputs": []
    }
  ]
}