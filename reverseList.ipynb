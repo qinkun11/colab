{
  "nbformat": 4,
  "nbformat_minor": 0,
  "metadata": {
    "colab": {
      "name": "reverseList.ipynb",
      "provenance": [],
      "authorship_tag": "ABX9TyN5BEctt/xBVj7xjfC++oaf",
      "include_colab_link": true
    },
    "kernelspec": {
      "name": "python3",
      "display_name": "Python 3"
    }
  },
  "cells": [
    {
      "cell_type": "markdown",
      "metadata": {
        "id": "view-in-github",
        "colab_type": "text"
      },
      "source": [
        "<a href=\"https://colab.research.google.com/github/qinkun11/colab/blob/master/reverseList.ipynb\" target=\"_parent\"><img src=\"https://colab.research.google.com/assets/colab-badge.svg\" alt=\"Open In Colab\"/></a>"
      ]
    },
    {
      "cell_type": "code",
      "metadata": {
        "id": "_ensLxTf7Qgy",
        "colab_type": "code",
        "colab": {
          "base_uri": "https://localhost:8080/",
          "height": 34
        },
        "outputId": "99f81ff9-6867-466e-fe5b-7b806cc96537"
      },
      "source": [
        "class Solution:\n",
        "    def reverse_list(self, listNode):\n",
        "        # None, False, 空字符串”“, 0, 空列表[], 空字典{}, 空元组()都相当于False \n",
        "        if not listNode:\n",
        "            return []\n",
        "        result = []\n",
        "\n",
        "        for i in listNode:\n",
        "            result.insert(0, i)\n",
        "            \n",
        "        return result\n",
        "\n",
        "node_list = ['a', 'b', 'c']\n",
        "\n",
        "solution = Solution()\n",
        "solution.reverse_list(node_list)\n"
      ],
      "execution_count": 5,
      "outputs": [
        {
          "output_type": "execute_result",
          "data": {
            "text/plain": [
              "['c', 'b', 'a']"
            ]
          },
          "metadata": {
            "tags": []
          },
          "execution_count": 5
        }
      ]
    }
  ]
}