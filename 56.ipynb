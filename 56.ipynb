{
  "nbformat": 4,
  "nbformat_minor": 0,
  "metadata": {
    "colab": {
      "name": "56.ipynb",
      "provenance": [],
      "collapsed_sections": [],
      "authorship_tag": "ABX9TyMko1kgtBFX3dFFlyWuiATY",
      "include_colab_link": true
    },
    "kernelspec": {
      "name": "python3",
      "display_name": "Python 3"
    }
  },
  "cells": [
    {
      "cell_type": "markdown",
      "metadata": {
        "id": "view-in-github",
        "colab_type": "text"
      },
      "source": [
        "<a href=\"https://colab.research.google.com/github/qinkun11/colab/blob/master/56.ipynb\" target=\"_parent\"><img src=\"https://colab.research.google.com/assets/colab-badge.svg\" alt=\"Open In Colab\"/></a>"
      ]
    },
    {
      "cell_type": "code",
      "metadata": {
        "id": "HIsmf3Xg8tWB",
        "colab_type": "code",
        "colab": {}
      },
      "source": [
        "class Solution:\n",
        "    def merge(self, intervals: List[List[int]]) -> List[List[int]]:\n",
        "        result = []\n",
        "        intervals.sort(key = lambda x : x[0])\n",
        "\n",
        "        i = 0\n",
        "        while i < len(intervals):\n",
        "            cur_start = intervals[i][0]\n",
        "            cur_end = intervals[i][1]\n",
        "\n",
        "            if result:\n",
        "                prev_start, prev_end = result[-1]\n",
        "                hi = min(prev_end, cur_end)\n",
        "                lo = max(prev_start, cur_start)\n",
        "\n",
        "                if lo <= hi:\n",
        "                    if cur_end > prev_end:\n",
        "                        result[-1][1] = cur_end\n",
        "                else:\n",
        "                    result.append(intervals[i])\n",
        "            else:\n",
        "                result.append(intervals[i])\n",
        "            i += 1\n",
        "        \n",
        "        return result"
      ],
      "execution_count": 0,
      "outputs": []
    }
  ]
}