{
  "nbformat": 4,
  "nbformat_minor": 0,
  "metadata": {
    "colab": {
      "name": "75.ipynb",
      "provenance": [],
      "collapsed_sections": [],
      "authorship_tag": "ABX9TyNYKrDGVqAoMZcTTChUn7Ui"
    },
    "kernelspec": {
      "name": "python3",
      "display_name": "Python 3"
    }
  },
  "cells": [
    {
      "cell_type": "code",
      "metadata": {
        "id": "HIsmf3Xg8tWB",
        "colab_type": "code",
        "colab": {}
      },
      "source": [
        "class Solution:\n",
        "    def sortColors(self, nums: List[int]) -> None:\n",
        "        \"\"\"\n",
        "        Do not return anything, modify nums in-place instead.\n",
        "        \"\"\"\n",
        "        p, q = 0, 0\n",
        "        k = len(nums) - 1\n",
        "        while q <= k:\n",
        "            if p < q and nums[q] == 0:\n",
        "                nums[p], nums[q] = nums[q], nums[p]\n",
        "                p += 1\n",
        "            elif nums[q] == 2:\n",
        "                nums[k], nums[q] = nums[q], nums[k]\n",
        "                k -= 1\n",
        "            else:\n",
        "                q += 1\n"
      ],
      "execution_count": 0,
      "outputs": []
    }
  ]
}