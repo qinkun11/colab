{
  "nbformat": 4,
  "nbformat_minor": 0,
  "metadata": {
    "colab": {
      "name": "75.ipynb",
      "provenance": [],
      "collapsed_sections": [],
      "authorship_tag": "ABX9TyMR4Mmj94ozKL6qeW4XGO1v",
      "include_colab_link": true
    },
    "kernelspec": {
      "name": "python3",
      "display_name": "Python 3"
    }
  },
  "cells": [
    {
      "cell_type": "markdown",
      "metadata": {
        "id": "view-in-github",
        "colab_type": "text"
      },
      "source": [
        "<a href=\"https://colab.research.google.com/github/qinkun11/colab/blob/master/61.ipynb\" target=\"_parent\"><img src=\"https://colab.research.google.com/assets/colab-badge.svg\" alt=\"Open In Colab\"/></a>"
      ]
    },
    {
      "cell_type": "code",
      "metadata": {
        "id": "HIsmf3Xg8tWB",
        "colab_type": "code",
        "colab": {}
      },
      "source": [
        "# Definition for singly-linked list.\n",
        "class ListNode:\n",
        "    def __init__(self, x):\n",
        "        self.val = x\n",
        "        self.next = None\n",
        "\n",
        "class Solution:\n",
        "    def rotateRight(self, head: ListNode, k: int) -> ListNode:\n",
        "        if head is None or head.next is None:\n",
        "            return head\n",
        "        n = 0\n",
        "        p = head\n",
        "        while p:\n",
        "            n += 1\n",
        "            p = p.next\n",
        "        \n",
        "        k = k % n\n",
        "        if k == 0:\n",
        "            return head\n",
        "        \n",
        "        p1, p2 = head, head\n",
        "        for i in range(k):\n",
        "            p2 = p2.next\n",
        "        \n",
        "        while p2 and p2.next:\n",
        "            p1 = p1.next\n",
        "            p2 = p2.next\n",
        "        \n",
        "        output = p1.next\n",
        "        p1.next = None\n",
        "        p2.next = head\n",
        "\n",
        "        return output"
      ],
      "execution_count": 0,
      "outputs": []
    }
  ]
}