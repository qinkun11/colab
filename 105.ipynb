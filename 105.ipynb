{
  "nbformat": 4,
  "nbformat_minor": 0,
  "metadata": {
    "colab": {
      "name": "105.ipynb",
      "provenance": [],
      "authorship_tag": "ABX9TyOwdTIKCPLb+xow6wTmobso",
      "include_colab_link": true
    },
    "kernelspec": {
      "name": "python3",
      "display_name": "Python 3"
    }
  },
  "cells": [
    {
      "cell_type": "markdown",
      "metadata": {
        "id": "view-in-github",
        "colab_type": "text"
      },
      "source": [
        "<a href=\"https://colab.research.google.com/github/qinkun11/colab/blob/master/105.ipynb\" target=\"_parent\"><img src=\"https://colab.research.google.com/assets/colab-badge.svg\" alt=\"Open In Colab\"/></a>"
      ]
    },
    {
      "cell_type": "code",
      "metadata": {
        "id": "Jglp9AtSm5DU",
        "colab_type": "code",
        "colab": {}
      },
      "source": [
        "# Definition for a binary tree node.\n",
        "# class TreeNode:\n",
        "#     def __init__(self, x):\n",
        "#         self.val = x\n",
        "#         self.left = None\n",
        "#         self.right = None\n",
        "\n",
        "class Solution:\n",
        "    def buildTree(self, preorder: List[int], inorder: List[int]) -> TreeNode:\n",
        "        if not preorder or not inorder:\n",
        "            return None\n",
        "        root_value = preorder[0]\n",
        "        root = TreeNode(root_value)\n",
        "\n",
        "        inorder_index = inorder.index(root_value)\n",
        "\n",
        "        root.left = self.buildTree(preorder[1: inorder_index+1], inorder[:inorder_index])\n",
        "        root.right = self.buildTree(preorder[inorder_index+1: ], inorder[inorder_index+1:])\n",
        "\n",
        "        return root\n",
        "\n"
      ],
      "execution_count": 0,
      "outputs": []
    }
  ]
}