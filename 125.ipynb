{
  "nbformat": 4,
  "nbformat_minor": 0,
  "metadata": {
    "colab": {
      "name": "125.ipynb",
      "provenance": [],
      "collapsed_sections": [],
      "authorship_tag": "ABX9TyPB3NmmZ19qMXs4SYi2IMvP",
      "include_colab_link": true
    },
    "kernelspec": {
      "name": "python3",
      "display_name": "Python 3"
    }
  },
  "cells": [
    {
      "cell_type": "markdown",
      "metadata": {
        "id": "view-in-github",
        "colab_type": "text"
      },
      "source": [
        "<a href=\"https://colab.research.google.com/github/qinkun11/colab/blob/master/125.ipynb\" target=\"_parent\"><img src=\"https://colab.research.google.com/assets/colab-badge.svg\" alt=\"Open In Colab\"/></a>"
      ]
    },
    {
      "cell_type": "code",
      "metadata": {
        "id": "HIsmf3Xg8tWB",
        "colab_type": "code",
        "colab": {}
      },
      "source": [
        "class Solution:\n",
        "    def isPalindrome(self, s: str) -> bool:\n",
        "        i,j = 0, (len(s)-1)\n",
        "        while i < j:\n",
        "            while i < j and not s[i].isalnum():\n",
        "                i += 1\n",
        "\n",
        "            while i < j and not s[j].isalnum():\n",
        "                j -= 1\n",
        "            if s[i].lower() != s[j].lower():\n",
        "                return False\n",
        "            i += 1\n",
        "            j -= 1\n",
        "        return True"
      ],
      "execution_count": 0,
      "outputs": []
    }
  ]
}