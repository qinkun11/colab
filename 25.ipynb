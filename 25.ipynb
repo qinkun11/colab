{
  "nbformat": 4,
  "nbformat_minor": 0,
  "metadata": {
    "colab": {
      "name": "Untitled4.ipynb",
      "provenance": [],
      "authorship_tag": "ABX9TyP6b6rkePzNK5IEDbdyayWt",
      "include_colab_link": true
    },
    "kernelspec": {
      "name": "python3",
      "display_name": "Python 3"
    }
  },
  "cells": [
    {
      "cell_type": "markdown",
      "metadata": {
        "id": "view-in-github",
        "colab_type": "text"
      },
      "source": [
        "<a href=\"https://colab.research.google.com/github/qinkun11/colab/blob/master/25.ipynb\" target=\"_parent\"><img src=\"https://colab.research.google.com/assets/colab-badge.svg\" alt=\"Open In Colab\"/></a>"
      ]
    },
    {
      "cell_type": "code",
      "metadata": {
        "id": "z68plDF10HQW",
        "colab_type": "code",
        "colab": {
          "base_uri": "https://localhost:8080/",
          "height": 134
        },
        "outputId": "b0c16e64-0ae7-46bd-c556-b64c9fe462c7"
      },
      "source": [
        "class Solution:\n",
        "    def isIsomorphic(self, s: str, t: str) -> bool:\n",
        "        if len(s) != len(t):\n",
        "            return False\n",
        "\n",
        "        return self.halfIsoms(s, t) and self.halfIsoms((t, s)\n",
        "\n",
        "    def halfIsoms(self, s: str, t: str) -> bool:\n",
        "        lookup = {}\n",
        "        for i in range(len(s)):\n",
        "            if s[i] not in lookup:\n",
        "                lookup[s[i]] = t[i]\n",
        "            elif lookup[s[i]] != t[i]:\n",
        "                return False\n",
        "        return True"
      ],
      "execution_count": 4,
      "outputs": [
        {
          "output_type": "error",
          "ename": "SyntaxError",
          "evalue": "ignored",
          "traceback": [
            "\u001b[0;36m  File \u001b[0;32m\"<ipython-input-4-4963f4989f7c>\"\u001b[0;36m, line \u001b[0;32m8\u001b[0m\n\u001b[0;31m    def halfIsoms(self, s: str, t: str) -> bool:\u001b[0m\n\u001b[0m      ^\u001b[0m\n\u001b[0;31mSyntaxError\u001b[0m\u001b[0;31m:\u001b[0m invalid syntax\n"
          ]
        }
      ]
    }
  ]
}