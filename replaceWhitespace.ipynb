{
  "nbformat": 4,
  "nbformat_minor": 0,
  "metadata": {
    "colab": {
      "name": "replaceWhitespace.ipynb",
      "provenance": [],
      "collapsed_sections": [],
      "authorship_tag": "ABX9TyPvqoiEGfJ0WaugcpwIUQWb",
      "include_colab_link": true
    },
    "kernelspec": {
      "name": "python3",
      "display_name": "Python 3"
    }
  },
  "cells": [
    {
      "cell_type": "markdown",
      "metadata": {
        "id": "view-in-github",
        "colab_type": "text"
      },
      "source": [
        "<a href=\"https://colab.research.google.com/github/qinkun11/colab/blob/master/replaceWhitespace.ipynb\" target=\"_parent\"><img src=\"https://colab.research.google.com/assets/colab-badge.svg\" alt=\"Open In Colab\"/></a>"
      ]
    },
    {
      "cell_type": "code",
      "metadata": {
        "id": "K18dX5H_cN4c",
        "colab_type": "code",
        "colab": {
          "base_uri": "https://localhost:8080/",
          "height": 34
        },
        "outputId": "d79635c1-e119-442e-8e6a-0a4f18bdb1af"
      },
      "source": [
        "class solution:\n",
        "    def replace_white_space(self, s):\n",
        "        if not isinstance(s, str) or len(s) <= 0 or s == None:\n",
        "            return ''\n",
        "        space_num = 0\n",
        "        for i in s:\n",
        "            if i == ' ':\n",
        "                space_num += 1\n",
        "        new_str_len = space_num * 2 + len(s)\n",
        "        new_str = new_str_len * [None]\n",
        "        # 开辟双指针\n",
        "        point_first, point_second = len(s) - 1 , new_str_len - 1 \n",
        "        while point_first >= 0 and point_first <= point_second:\n",
        "            if s[point_first] == ' ':\n",
        "                new_str[point_second - 2: point_second + 1] = ['%', '2', '0']\n",
        "                # jump out condition\n",
        "                point_second -= 3\n",
        "                point_first -= 1\n",
        "            else: \n",
        "                new_str[point_second] = s[point_first]\n",
        "                point_second -= 1\n",
        "                point_first -= 1\n",
        "        return ''.join(new_str)\n",
        "            \n",
        "str1 = \"we are family\"\n",
        "solution = solution();\n",
        "solution.replace_white_space(str1)"
      ],
      "execution_count": 9,
      "outputs": [
        {
          "output_type": "execute_result",
          "data": {
            "text/plain": [
              "'we%20are%20family'"
            ]
          },
          "metadata": {
            "tags": []
          },
          "execution_count": 9
        }
      ]
    }
  ]
}