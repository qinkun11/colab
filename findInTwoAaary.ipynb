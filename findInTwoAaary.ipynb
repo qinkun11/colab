{
  "nbformat": 4,
  "nbformat_minor": 0,
  "metadata": {
    "colab": {
      "name": "findInTwoAaary.ipynb",
      "provenance": [],
      "authorship_tag": "ABX9TyMG+uix6jSn+E5m56Wq93+6",
      "include_colab_link": true
    },
    "kernelspec": {
      "name": "python3",
      "display_name": "Python 3"
    }
  },
  "cells": [
    {
      "cell_type": "markdown",
      "metadata": {
        "id": "view-in-github",
        "colab_type": "text"
      },
      "source": [
        "<a href=\"https://colab.research.google.com/github/qinkun11/colab/blob/master/findInTwoAaary.ipynb\" target=\"_parent\"><img src=\"https://colab.research.google.com/assets/colab-badge.svg\" alt=\"Open In Colab\"/></a>"
      ]
    },
    {
      "cell_type": "code",
      "metadata": {
        "id": "IWzoJ-r-Mfpm",
        "colab_type": "code",
        "colab": {}
      },
      "source": [
        "# 二维数组中的查找\n",
        "class solution:\n",
        "    def find(self, target, array):\n",
        "        if array == []:\n",
        "            return false\n",
        "        num_row = len(array)\n",
        "        num_col = len(array[0])\n",
        "        i = num_col - 1\n",
        "        j = 0\n",
        "        while i >= 0 and j < num_col:\n",
        "            if array[j][i] > target:\n",
        "                i -= 1\n",
        "            elif array[j][i] < target:\n",
        "                j += 1\n",
        "            else:\n",
        "                return true;\n",
        "        \n",
        "\n",
        "\n",
        "\n"
      ],
      "execution_count": 0,
      "outputs": []
    }
  ]
}