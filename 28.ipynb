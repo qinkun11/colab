{
  "nbformat": 4,
  "nbformat_minor": 0,
  "metadata": {
    "colab": {
      "name": "28.ipynb",
      "provenance": [],
      "authorship_tag": "ABX9TyMmrVqqKnm0nVrNR4nO/THJ"
    },
    "kernelspec": {
      "name": "python3",
      "display_name": "Python 3"
    }
  },
  "cells": [
    {
      "cell_type": "code",
      "metadata": {
        "id": "HIsmf3Xg8tWB",
        "colab_type": "code",
        "colab": {}
      },
      "source": [
        "class Solution:\n",
        "    def strStr(self, haystack: str, needle: str) -> int:\n",
        "        for i in range(len(haystack) - len(needle) + 1):\n",
        "            if haystack[i: i + len(needle)] == needle:\n",
        "                return i\n",
        "        return -1"
      ],
      "execution_count": 0,
      "outputs": []
    }
  ]
}