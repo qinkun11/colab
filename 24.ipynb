{
  "nbformat": 4,
  "nbformat_minor": 0,
  "metadata": {
    "colab": {
      "name": "24.ipynb",
      "provenance": [],
      "authorship_tag": "ABX9TyPIKuH7Ga+yFZf8vFLJWMYa",
      "include_colab_link": true
    },
    "kernelspec": {
      "name": "python3",
      "display_name": "Python 3"
    }
  },
  "cells": [
    {
      "cell_type": "markdown",
      "metadata": {
        "id": "view-in-github",
        "colab_type": "text"
      },
      "source": [
        "<a href=\"https://colab.research.google.com/github/qinkun11/colab/blob/master/24.ipynb\" target=\"_parent\"><img src=\"https://colab.research.google.com/assets/colab-badge.svg\" alt=\"Open In Colab\"/></a>"
      ]
    },
    {
      "cell_type": "code",
      "metadata": {
        "id": "BjzgsHE0YIPj",
        "colab_type": "code",
        "colab": {}
      },
      "source": [
        "# swap nodes in pairs\n",
        "\n",
        "class listNode:\n",
        "    def __init__(self, x):\n",
        "        self.val = x\n",
        "        self.next = None\n",
        "class Solution:\n",
        "    def swap_pairs(self, head: listNode) -> listNode:\n",
        "        if not head or not head.next:\n",
        "            return head\n",
        "\n",
        "        p = head\n",
        "        new_start = p.next\n",
        "        while(True):\n",
        "            q = p.next\n",
        "            temp = q.next\n",
        "            \n",
        "            q.next = p\n",
        "            if not temp or not temp.next:\n",
        "                p.next = temp\n",
        "                break\n",
        "            p.next = temp.next\n",
        "            p = temp\n",
        "        return new_start \n",
        "\n"
      ],
      "execution_count": 0,
      "outputs": []
    }
  ]
}