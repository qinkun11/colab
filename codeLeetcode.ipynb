{
  "nbformat": 4,
  "nbformat_minor": 0,
  "metadata": {
    "colab": {
      "name": "codeLeetcode.ipynb",
      "provenance": [],
      "authorship_tag": "ABX9TyNIkB15r7ngc9ffDUbjHjXQ",
      "include_colab_link": true
    },
    "kernelspec": {
      "name": "python3",
      "display_name": "Python 3"
    }
  },
  "cells": [
    {
      "cell_type": "markdown",
      "metadata": {
        "id": "view-in-github",
        "colab_type": "text"
      },
      "source": [
        "<a href=\"https://colab.research.google.com/github/qinkun11/colab/blob/master/codeLeetcode.ipynb\" target=\"_parent\"><img src=\"https://colab.research.google.com/assets/colab-badge.svg\" alt=\"Open In Colab\"/></a>"
      ]
    },
    {
      "cell_type": "code",
      "metadata": {
        "id": "1h6D1wNQNOF0",
        "colab_type": "code",
        "colab": {
          "base_uri": "https://localhost:8080/",
          "height": 68
        },
        "outputId": "b39218e8-8f5f-4b89-b699-9dc33980ce59"
      },
      "source": [
        "# 1.two sum\n",
        "class Solution:\n",
        "    def two_sum(self, nums, target):\n",
        "        \"\"\"\n",
        "        :type nums: List[int]\n",
        "        :type target: int\n",
        "        :rtype:List[int]\n",
        "        \"\"\"\n",
        "\n",
        "        for k, i in enumerate(nums):\n",
        "            print(k,i)\n",
        "            print(nums[1:])\n",
        "            if target - i in nums[k+1:]:\n",
        "                return [k, nums[k+1:].index(target - i) + k + 1]\n",
        "nums = [3, 3, 2]\n",
        "target = 6\n",
        "s = Solution()\n",
        "print(s.two_sum(nums, target))"
      ],
      "execution_count": 6,
      "outputs": [
        {
          "output_type": "stream",
          "text": [
            "0 3\n",
            "[3, 2]\n",
            "[0, 1]\n"
          ],
          "name": "stdout"
        }
      ]
    },
    {
      "cell_type": "code",
      "metadata": {
        "id": "h-pdJYsTPhA_",
        "colab_type": "code",
        "colab": {
          "base_uri": "https://localhost:8080/",
          "height": 68
        },
        "outputId": "2c4697b0-4490-48d0-ad14-47baba95e1f0"
      },
      "source": [
        "# 2.add two nums\n",
        "class ListNode:\n",
        "    def __init__(self, x):\n",
        "        self.val = x\n",
        "        self.next = None\n",
        "\n",
        "class Solution(object):\n",
        "    def add_two_numbers(self, node1, node2):\n",
        "        \"\"\"\n",
        "        :type node1: ListNode\n",
        "        :type node2: ListNode\n",
        "        :rtype: ListNode\n",
        "        \"\"\"\n",
        "        # 特殊情况\n",
        "        if node1 == None:\n",
        "            return node2\n",
        "        if node2 == None:\n",
        "            return node1\n",
        "        # 无需进位 \n",
        "        if node1.val + node2.val < 10:\n",
        "            node3 = ListNode(node1.val + node2.val)\n",
        "            node3.next = self.add_two_numbers(node1.next, node2.next)\n",
        "        elif node1.val + node2.val >= 10:\n",
        "            node3 = ListNode(node1.val + node2.val - 10)\n",
        "            temp = ListNode(1)\n",
        "            temp.next = None\n",
        "            # 递归调用\n",
        "            node3.next = self.add_two_numbers(node1.next, self.add_two_numbers(node2.next, temp))\n",
        "        return node3\n",
        "\n",
        "la = ListNode(2)\n",
        "la.next = ListNode(4)\n",
        "la.next.next = ListNode(3)\n",
        "\n",
        "lb = ListNode(5)\n",
        "lb.next = ListNode(6)\n",
        "lb.next.next = ListNode(4)\n",
        "\n",
        "s = Solution()\n",
        "ss = s.add_two_numbers(la, lb)\n",
        "\n",
        "print(ss.val)\n",
        "print(ss.next.val)\n",
        "print(ss.next.next.val)"
      ],
      "execution_count": 10,
      "outputs": [
        {
          "output_type": "stream",
          "text": [
            "7\n",
            "0\n",
            "8\n"
          ],
          "name": "stdout"
        }
      ]
    },
    {
      "cell_type": "code",
      "metadata": {
        "id": "Z55Vn409WHio",
        "colab_type": "code",
        "colab": {
          "base_uri": "https://localhost:8080/",
          "height": 71
        },
        "outputId": "df2c0944-406d-4ba5-907b-a9c7647af220"
      },
      "source": [
        "# longest palindromic substring 最长回文子串（动态规划问题）\n",
        "# s 和 reverse(s)共有的最长的substring\n",
        "class Solution(object):\n",
        "    def longest_palindromic(self, s):\n",
        "        \"\"\"\n",
        "        :type s:str\n",
        "        :rtype: str\n",
        "        \"\"\"\n",
        "        def longest_common_str(s1, s2):\n",
        "\n",
        "            m = [[0] * (1 + len(s2)) for i in range(1 + len(s1))]\n",
        "            print(m)\n",
        "            longest, x_longest = 0, 0\n",
        "            for x in range(1, 1 + len(s1)):\n",
        "                for y in range(1, 1 + len(s2)):\n",
        "                    if s1[x - 1] == s2[y - 1]:\n",
        "                        m[x][y] = m[x-1][y-1] + 1\n",
        "                        if m[x][y] > longest:\n",
        "                            longest = m[x][y]\n",
        "                            x_longest = x\n",
        "                    else:\n",
        "                        m[x][y] = 0\n",
        "            return s1[x_longest - longest : x_longest] \n",
        "\n",
        "    \n",
        "        return longest_common_str(s, s[ : : -1])\n",
        "\n",
        "solution = Solution()\n",
        "nums = 'acbcddc'\n",
        "print(solution.longest_palindromic(nums))\n",
        "\n",
        "\n"
      ],
      "execution_count": 13,
      "outputs": [
        {
          "output_type": "stream",
          "text": [
            "[[0, 0, 0, 0, 0, 0, 0, 0], [0, 0, 0, 0, 0, 0, 0, 0], [0, 0, 0, 0, 0, 0, 0, 0], [0, 0, 0, 0, 0, 0, 0, 0], [0, 0, 0, 0, 0, 0, 0, 0], [0, 0, 0, 0, 0, 0, 0, 0], [0, 0, 0, 0, 0, 0, 0, 0], [0, 0, 0, 0, 0, 0, 0, 0]]\n",
            "cddc\n"
          ],
          "name": "stdout"
        }
      ]
    }
  ]
}