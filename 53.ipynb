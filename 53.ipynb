{
  "nbformat": 4,
  "nbformat_minor": 0,
  "metadata": {
    "colab": {
      "name": "53.ipynb",
      "provenance": [],
      "collapsed_sections": [],
      "authorship_tag": "ABX9TyNvpOqXfwCj7YWjk3I0tyUL",
      "include_colab_link": true
    },
    "kernelspec": {
      "name": "python3",
      "display_name": "Python 3"
    }
  },
  "cells": [
    {
      "cell_type": "markdown",
      "metadata": {
        "id": "view-in-github",
        "colab_type": "text"
      },
      "source": [
        "<a href=\"https://colab.research.google.com/github/qinkun11/colab/blob/master/53.ipynb\" target=\"_parent\"><img src=\"https://colab.research.google.com/assets/colab-badge.svg\" alt=\"Open In Colab\"/></a>"
      ]
    },
    {
      "cell_type": "code",
      "metadata": {
        "id": "HIsmf3Xg8tWB",
        "colab_type": "code",
        "colab": {}
      },
      "source": [
        "class Solution:\n",
        "    def maxSubArray(self, nums: List[int]) -> int:\n",
        "        if max(nums) < 0:\n",
        "            return max(nums)\n",
        "        local_max, global_max = 0,0\n",
        "        for num in nums:\n",
        "            local_max = max(0, local_max+num)\n",
        "            global_max = max(global_max, local_max)\n",
        "        return global_max"
      ],
      "execution_count": 0,
      "outputs": []
    }
  ]
}