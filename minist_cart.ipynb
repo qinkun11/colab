{
  "nbformat": 4,
  "nbformat_minor": 0,
  "metadata": {
    "colab": {
      "name": "minist_cat.ipynb",
      "provenance": [],
      "authorship_tag": "ABX9TyNjpDXRL7b3upayCx5Tlc0G",
      "include_colab_link": true
    },
    "kernelspec": {
      "name": "python3",
      "display_name": "Python 3"
    }
  },
  "cells": [
    {
      "cell_type": "markdown",
      "metadata": {
        "id": "view-in-github",
        "colab_type": "text"
      },
      "source": [
        "<a href=\"https://colab.research.google.com/github/qinkun11/colab/blob/master/minist_cart.ipynb\" target=\"_parent\"><img src=\"https://colab.research.google.com/assets/colab-badge.svg\" alt=\"Open In Colab\"/></a>"
      ]
    },
    {
      "cell_type": "code",
      "metadata": {
        "id": "kuLl9VKwRp4l",
        "colab_type": "code",
        "colab": {
          "base_uri": "https://localhost:8080/",
          "height": 485
        },
        "outputId": "5939319d-cb1d-4c02-c59b-d3b10d54d7a7"
      },
      "source": [
        "from sklearn import tree\n",
        "from sklearn.datasets import load_digits\n",
        "from sklearn.model_selection import train_test_split\n",
        "import numpy as np\n",
        "import pandas as pd\n",
        "import scipy\n",
        "import matplotlib.pyplot as plt\n",
        "\n",
        "# 加载数据\n",
        "digits = load_digits()\n",
        "data = digits.data\n",
        "\n",
        "print(data.shape)\n",
        "\n",
        "print(type(data))\n",
        "# 查看第一幅图像\n",
        "print(digits.images[0])\n",
        "# 第一幅图像代表的数字含义\n",
        "print(digits.target[0])\n",
        "# 将第一幅图像显示出来\n",
        "plt.gray()\n",
        "plt.title('Handwritten Digits')\n",
        "plt.imshow(digits.images[0])\n",
        "plt.show()\n",
        "\n",
        "train_x, test_x, train_y, test_y = train_test_split(data, digits.target, test_size=0.25, random_state=33)\n",
        "digits.target\n",
        "\n",
        "pd.concat([pd.DataFrame(data),pd.DataFrame(digits.target)],axis=1)\n",
        "\n",
        "digits.target_names\n",
        "\n",
        "Xtrain, Xtest, Ytrain, Ytest = train_test_split(data,digits.target,test_size=0.3)\n",
        "\n",
        "Xtrain.shape\n",
        "Xtest.shape\n",
        "\n",
        "clf = tree.DecisionTreeClassifier(criterion=\"entropy\")\n",
        "clf = clf.fit(Xtrain, Ytrain)\n",
        "score = clf.score(Xtest, Ytest) #返回预测的准确度\n",
        "score"
      ],
      "execution_count": 1,
      "outputs": [
        {
          "output_type": "stream",
          "text": [
            "(1797, 64)\n",
            "<class 'numpy.ndarray'>\n",
            "[[ 0.  0.  5. 13.  9.  1.  0.  0.]\n",
            " [ 0.  0. 13. 15. 10. 15.  5.  0.]\n",
            " [ 0.  3. 15.  2.  0. 11.  8.  0.]\n",
            " [ 0.  4. 12.  0.  0.  8.  8.  0.]\n",
            " [ 0.  5.  8.  0.  0.  9.  8.  0.]\n",
            " [ 0.  4. 11.  0.  1. 12.  7.  0.]\n",
            " [ 0.  2. 14.  5. 10. 12.  0.  0.]\n",
            " [ 0.  0.  6. 13. 10.  0.  0.  0.]]\n",
            "0\n"
          ],
          "name": "stdout"
        },
        {
          "output_type": "display_data",
          "data": {
            "image/png": "[encoded data removed]",
            "text/plain": [
              "<Figure size 432x288 with 1 Axes>"
            ]
          },
          "metadata": {
            "tags": []
          }
        },
        {
          "output_type": "execute_result",
          "data": {
            "text/plain": [
              "0.8537037037037037"
            ]
          },
          "metadata": {
            "tags": []
          },
          "execution_count": 1
        }
      ]
    }
  ]
}