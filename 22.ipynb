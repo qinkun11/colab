{
  "nbformat": 4,
  "nbformat_minor": 0,
  "metadata": {
    "colab": {
      "name": "22.ipynb",
      "provenance": [],
      "collapsed_sections": [],
      "authorship_tag": "ABX9TyNk2F52eLy1dN+PQnx4jYew",
      "include_colab_link": true
    },
    "kernelspec": {
      "name": "python3",
      "display_name": "Python 3"
    }
  },
  "cells": [
    {
      "cell_type": "markdown",
      "metadata": {
        "id": "view-in-github",
        "colab_type": "text"
      },
      "source": [
        "<a href=\"https://colab.research.google.com/github/qinkun11/colab/blob/master/22.ipynb\" target=\"_parent\"><img src=\"https://colab.research.google.com/assets/colab-badge.svg\" alt=\"Open In Colab\"/></a>"
      ]
    },
    {
      "cell_type": "code",
      "metadata": {
        "id": "HIsmf3Xg8tWB",
        "colab_type": "code",
        "colab": {}
      },
      "source": [
        "class Solution:\n",
        "    def generateParenthesis(self, n: int) -> List[str]:\n",
        "        #递归思想\n",
        "        if n == 0:\n",
        "            return []\n",
        "        \n",
        "        result = []\n",
        "        self.helper(n, n, '', result)\n",
        "        return result\n",
        "\n",
        "    def helper(self, l, r, item, result):\n",
        "        if r < l:\n",
        "            return\n",
        "        if l == 0 and r == 0:\n",
        "            result.append(item)\n",
        "        if l > 0:\n",
        "            self.helper(l-1, r, item + '(', result)\n",
        "        if r > 0:\n",
        "            self.helper(l, r-1, item + ')', result)\n"
      ],
      "execution_count": 0,
      "outputs": []
    }
  ]
}