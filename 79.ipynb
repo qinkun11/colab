{
  "nbformat": 4,
  "nbformat_minor": 0,
  "metadata": {
    "colab": {
      "name": "79.ipynb",
      "provenance": [],
      "collapsed_sections": [],
      "authorship_tag": "ABX9TyNuLhizfhi7/XURjEH0xEcr"
    },
    "kernelspec": {
      "name": "python3",
      "display_name": "Python 3"
    }
  },
  "cells": [
    {
      "cell_type": "code",
      "metadata": {
        "id": "HIsmf3Xg8tWB",
        "colab_type": "code",
        "colab": {}
      },
      "source": [
        "class Solution:\n",
        "    def exist(self, board: List[List[str]], word: str) -> bool:\n",
        "        for i in range(len(board)):\n",
        "            for j in range(len(board[0])):\n",
        "                if self.helper(board, i, j, word, 0):\n",
        "                    return True\n",
        "        return False\n",
        "\n",
        "    def helper(self, board, i, j, word, wordIndex):\n",
        "        if wordIndex == len(word):\n",
        "            return True\n",
        "        if i < 0 or i >= len(board) or j<0 or j >= len(board[0]) or word[wordIndex] != board[i][j]:  \n",
        "            return False\n",
        "\n",
        "        board[i][j] = \"#\"\n",
        "\n",
        "        found = self.helper(board, i+1, j, word, wordIndex+1) \\\n",
        "                or self.helper(board, i, j+1, word, wordIndex+1) \\\n",
        "                or self.helper(board, i, j-1, word, wordIndex+1) \\\n",
        "                or self.helper(board, i-1, j, word, wordIndex+1)\n",
        "        board[i][j] = word[wordIndex]\n",
        "\n",
        "        return found\n",
        "\n"
      ],
      "execution_count": 0,
      "outputs": []
    }
  ]
}